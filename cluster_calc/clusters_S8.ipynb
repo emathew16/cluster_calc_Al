{
 "cells": [
  {
   "cell_type": "code",
   "execution_count": 1,
   "id": "3f666aef",
   "metadata": {},
   "outputs": [],
   "source": [
    "import ase\n",
    "from mendeleev import Al as elm  # The species\n",
    "import os\n",
    "from amstools import *\n",
    "from ase.lattice.cubic import FaceCenteredCubic\n",
    "import matplotlib.pyplot as plt\n",
    "import numpy as np\n",
    "from ase import io\n",
    "from ase.optimize import LBFGS\n",
    "# Load remaining modules\n",
    "import shutil\n",
    "import os\n",
    "import glob\n",
    "import numpy as np\n",
    "import copy"
   ]
  },
  {
   "cell_type": "code",
   "execution_count": 2,
   "id": "d0c2fe1d",
   "metadata": {},
   "outputs": [],
   "source": [
    "def closed(atom,target,dif=[0.1,0.1,0.1]):\n",
    "    check=[False,False,False]\n",
    "    for i in range(3):\n",
    "        if atom[i] > target[i]-dif[i] and atom[i] < target[i]+dif[i]:\n",
    "            check[i]=True\n",
    "    return all(check)"
   ]
  },
  {
   "cell_type": "markdown",
   "id": "15736a93",
   "metadata": {},
   "source": [
    "## EAM Structure"
   ]
  },
  {
   "cell_type": "code",
   "execution_count": 3,
   "id": "dde04cae",
   "metadata": {},
   "outputs": [],
   "source": [
    "fcc = FaceCenteredCubic(directions=[[1,0,0], [0,1,0], [0,0,1]],\n",
    "                          size=(1,1,1), symbol=elm.symbol, pbc=(1,1,1),\n",
    "                          latticeconstant=4.05)"
   ]
  },
  {
   "cell_type": "code",
   "execution_count": 4,
   "id": "e4640c90",
   "metadata": {},
   "outputs": [],
   "source": [
    "cell=fcc*[8,8,8]\n",
    "#cell = fcc*(2,2,2)"
   ]
  },
  {
   "cell_type": "code",
   "execution_count": 5,
   "id": "b9c6c333",
   "metadata": {},
   "outputs": [
    {
     "data": {
      "text/plain": [
       "Atom('Al', [0.0, 0.0, 0.0])"
      ]
     },
     "execution_count": 5,
     "metadata": {},
     "output_type": "execute_result"
    }
   ],
   "source": [
    "cell1=cell.copy() # !!! copy\n",
    "cell1.pop(0)"
   ]
  },
  {
   "cell_type": "code",
   "execution_count": 6,
   "id": "210a5a9f",
   "metadata": {},
   "outputs": [
    {
     "name": "stdout",
     "output_type": "stream",
     "text": [
      "2.8637824638055176 [0.    2.025 2.025]\n"
     ]
    }
   ],
   "source": [
    "# for divacancy(n = 2 and n p = 1)\n",
    "distances=[]\n",
    "\n",
    "a0=4.05\n",
    "vec_1=np.array([0,a0/2,a0/2]) \n",
    "vecs = [vec_1]\n",
    "\n",
    "for vec in vecs:\n",
    "    distances.append(np.linalg.norm(vec))\n",
    "    print(np.linalg.norm(vec),vec)"
   ]
  },
  {
   "cell_type": "code",
   "execution_count": 7,
   "id": "02871bc8",
   "metadata": {},
   "outputs": [
    {
     "name": "stdout",
     "output_type": "stream",
     "text": [
      "Target 1NN, Atom is 3\n"
     ]
    }
   ],
   "source": [
    "cell2=cell.copy()\n",
    "# cell2 : Atoms object\n",
    "\n",
    "atom_list=[]\n",
    "\n",
    "for j,target in enumerate(vecs):\n",
    "    for i,atm in enumerate(cell2):\n",
    "        # atom : Atom object\n",
    "        if closed(atm.position,target):\n",
    "            print(\"Target {}NN, Atom is {}\".format(j+1,i))\n",
    "            atom_list.append(i)"
   ]
  },
  {
   "cell_type": "code",
   "execution_count": 8,
   "id": "2b07f811",
   "metadata": {},
   "outputs": [],
   "source": [
    "#!mkdir ./cluster_struc_S8_big\n",
    "from ase.io import write\n",
    "cell_base=cell.copy() # divacancy\n",
    "atm2=cell_base.pop(atom_list[0])  \n",
    "atm1=cell_base.pop(0)\n",
    "write(\"./cluster_struc_S8_big/divac_Al_eam.cfg\",cell_base)\n",
    "\n"
   ]
  },
  {
   "cell_type": "code",
   "execution_count": 9,
   "id": "d21e5ea1",
   "metadata": {},
   "outputs": [],
   "source": [
    "write(\"./cluster_struc_S8_big/Al_eam.cfg\",cell)"
   ]
  },
  {
   "cell_type": "code",
   "execution_count": 10,
   "id": "b841b641",
   "metadata": {},
   "outputs": [
    {
     "name": "stdout",
     "output_type": "stream",
     "text": [
      "2.8637824638055176 [0.    2.025 2.025]\n",
      "4.05 [0.   0.   4.05]\n",
      "Target 1NN, Atom is 3\n",
      "Target 2NN, Atom is 4\n"
     ]
    }
   ],
   "source": [
    "# for triangle(n = 3 and n p = 3)\n",
    "distances=[]\n",
    "\n",
    "a0=4.05\n",
    "vec_1=np.array([0,a0/2,a0/2])\n",
    "vec_2=np.array([0,0,a0])\n",
    "vecs = [vec_1,vec_2]\n",
    "\n",
    "for vec in vecs:\n",
    "    distances.append(np.linalg.norm(vec))\n",
    "    print(np.linalg.norm(vec),vec)\n",
    "cell2=cell.copy()\n",
    "# cell2 : Atoms object\n",
    "\n",
    "atom_list=[]\n",
    "\n",
    "for j,target in enumerate(vecs):\n",
    "    for i,atm in enumerate(cell2):\n",
    "        # atom : Atom object\n",
    "        if closed(atm.position,target):\n",
    "            print(\"Target {}NN, Atom is {}\".format(j+1,i))\n",
    "            atom_list.append(i)\n",
    "\n",
    "from ase.io import write\n",
    "cell_base=cell.copy() \n",
    "atm3=cell_base.pop(atom_list[1])\n",
    "atm2=cell_base.pop(atom_list[0])  \n",
    "atm1=cell_base.pop(0)\n",
    "write(\"./cluster_struc_S8_big/tri_Al_eam.cfg\",cell_base)"
   ]
  },
  {
   "cell_type": "code",
   "execution_count": 11,
   "id": "e0ef3974",
   "metadata": {},
   "outputs": [
    {
     "name": "stdout",
     "output_type": "stream",
     "text": [
      "4.05 [4.05 0.   0.  ]\n",
      "4.05 [0.   0.   4.05]\n",
      "5.727564927611035 [4.05 0.   4.05]\n",
      "Target 1NN, Atom is 256\n",
      "Target 2NN, Atom is 4\n",
      "Target 3NN, Atom is 260\n"
     ]
    }
   ],
   "source": [
    "# for square(n = 4 and n p = 4)\n",
    "distances=[]\n",
    "\n",
    "a0=4.05\n",
    "vec_1=np.array([a0,0,0])\n",
    "vec_2=np.array([0,0,a0])\n",
    "vec_3=np.array([a0,0,a0])\n",
    "vecs = [vec_1,vec_2,vec_3]\n",
    "\n",
    "for vec in vecs:\n",
    "    distances.append(np.linalg.norm(vec))\n",
    "    print(np.linalg.norm(vec),vec)\n",
    "cell2=cell.copy()\n",
    "# cell2 : Atoms object\n",
    "\n",
    "atom_list=[]\n",
    "\n",
    "for j,target in enumerate(vecs):\n",
    "    for i,atm in enumerate(cell2):\n",
    "        # atom : Atom object\n",
    "        if closed(atm.position,target):\n",
    "            print(\"Target {}NN, Atom is {}\".format(j+1,i))\n",
    "            atom_list.append(i)\n",
    "#!mkdir ./square\n",
    "from ase.io import write\n",
    "cell_base=cell.copy()\n",
    "atm4=cell_base.pop(atom_list[2])\n",
    "atm3=cell_base.pop(atom_list[0])\n",
    "atm2=cell_base.pop(atom_list[1])  \n",
    "atm1=cell_base.pop(0)\n",
    "write(\"./cluster_struc_S8_big/sqr_Al_eam.cfg\",cell_base)\n"
   ]
  },
  {
   "cell_type": "code",
   "execution_count": 12,
   "id": "2f43bdd2",
   "metadata": {},
   "outputs": [
    {
     "name": "stdout",
     "output_type": "stream",
     "text": [
      "2.8637824638055176 [0.    2.025 2.025]\n",
      "4.960216729135936 [2.025 2.025 4.05 ]\n",
      "2.8637824638055176 [2.025 0.    2.025]\n",
      "4.960216729135936 [2.025 4.05  2.025]\n",
      "Target 1NN, Atom is 3\n",
      "Target 2NN, Atom is 5\n",
      "Target 3NN, Atom is 2\n",
      "Target 4NN, Atom is 34\n"
     ]
    }
   ],
   "source": [
    "# for bent rhombus(n = 4 and n p = 5)\n",
    "distances=[]\n",
    "\n",
    "a0=4.05\n",
    "vec_1=np.array([0,a0/2,a0/2])\n",
    "vec_2=np.array([a0/2,a0/2,a0])\n",
    "vec_3=np.array([a0/2,0,a0/2])\n",
    "vec_4 = np.array([a0/2,a0,a0/2]) \n",
    "vecs = [vec_1,vec_2,vec_3,vec_4]\n",
    "\n",
    "for vec in vecs:\n",
    "    distances.append(np.linalg.norm(vec))\n",
    "    print(np.linalg.norm(vec),vec)\n",
    "cell2=cell.copy()\n",
    "# cell2 : Atoms object\n",
    "\n",
    "atom_list=[]\n",
    "\n",
    "for j,target in enumerate(vecs):\n",
    "    for i,atm in enumerate(cell2):\n",
    "        # atom : Atom object\n",
    "        if closed(atm.position,target):\n",
    "            print(\"Target {}NN, Atom is {}\".format(j+1,i))\n",
    "            atom_list.append(i)\n",
    "#!mkdir ./bent_rhombus\n",
    "from ase.io import write\n",
    "cell_base=cell.copy()\n",
    "atm5=cell_base.pop(atom_list[3])\n",
    "atm4=cell_base.pop(atom_list[1])\n",
    "atm3=cell_base.pop(atom_list[0])\n",
    "atm2=cell_base.pop(atom_list[2])  \n",
    "write(\"./cluster_struc_S8_big/b_rhom_Al_eam.cfg\",cell_base)\n"
   ]
  },
  {
   "cell_type": "code",
   "execution_count": 13,
   "id": "f510bf8d",
   "metadata": {},
   "outputs": [
    {
     "name": "stdout",
     "output_type": "stream",
     "text": [
      "2.8637824638055176 [0.    2.025 2.025]\n",
      "4.05 [0.   0.   4.05]\n",
      "4.960216729135936 [2.025 4.05  2.025]\n",
      "Target 1NN, Atom is 3\n",
      "Target 2NN, Atom is 4\n",
      "Target 3NN, Atom is 34\n"
     ]
    }
   ],
   "source": [
    "# for tetrahedron(n = 4 and n p = 6)\n",
    "distances=[]\n",
    "\n",
    "a0=4.05\n",
    "vec_1=np.array([0,a0/2,a0/2])\n",
    "vec_2=np.array([0,0,a0])\n",
    "vec_3=np.array([a0/2,a0,a0/2])\n",
    "vecs = [vec_1,vec_2,vec_3]\n",
    "\n",
    "for vec in vecs:\n",
    "    distances.append(np.linalg.norm(vec))\n",
    "    print(np.linalg.norm(vec),vec)\n",
    "cell2=cell.copy()\n",
    "# cell2 : Atoms object\n",
    "\n",
    "atom_list=[]\n",
    "\n",
    "for j,target in enumerate(vecs):\n",
    "    for i,atm in enumerate(cell2):\n",
    "        # atom : Atom object\n",
    "        if closed(atm.position,target):\n",
    "            print(\"Target {}NN, Atom is {}\".format(j+1,i))\n",
    "            atom_list.append(i)\n",
    "\n",
    "from ase.io import write\n",
    "cell_base=cell.copy() \n",
    "atm4=cell_base.pop(atom_list[2])\n",
    "atm3=cell_base.pop(atom_list[1]) \n",
    "atm2=cell_base.pop(atom_list[0])\n",
    "atm1=cell_base.pop(0)\n",
    "write(\"./cluster_struc_S8_big/tetra_Al_eam.cfg\",cell_base)\n"
   ]
  },
  {
   "cell_type": "code",
   "execution_count": 14,
   "id": "37d3a992",
   "metadata": {},
   "outputs": [
    {
     "name": "stdout",
     "output_type": "stream",
     "text": [
      "4.05 [4.05 0.   0.  ]\n",
      "4.05 [0.   0.   4.05]\n",
      "5.727564927611035 [4.05 0.   4.05]\n",
      "4.960216729135936 [2.025 4.05  2.025]\n",
      "Target 1NN, Atom is 256\n",
      "Target 2NN, Atom is 4\n",
      "Target 3NN, Atom is 260\n",
      "Target 4NN, Atom is 34\n"
     ]
    }
   ],
   "source": [
    "# for pyramid(n = 5 and n p = 8)\n",
    "distances=[]\n",
    "\n",
    "a0=4.05\n",
    "vec_1=np.array([a0,0,0])\n",
    "vec_2=np.array([0,0,a0])\n",
    "vec_3=np.array([a0,0,a0])\n",
    "vec_4=np.array([a0/2,a0,a0/2])\n",
    "vecs = [vec_1,vec_2,vec_3,vec_4]\n",
    "\n",
    "for vec in vecs:\n",
    "    distances.append(np.linalg.norm(vec))\n",
    "    print(np.linalg.norm(vec),vec)\n",
    "cell2=cell.copy()\n",
    "# cell2 : Atoms object\n",
    "\n",
    "atom_list=[]\n",
    "\n",
    "for j,target in enumerate(vecs):\n",
    "    for i,atm in enumerate(cell2):\n",
    "        # atom : Atom object\n",
    "        if closed(atm.position,target):\n",
    "            print(\"Target {}NN, Atom is {}\".format(j+1,i))\n",
    "            atom_list.append(i)\n",
    "\n",
    "from ase.io import write\n",
    "cell_base=cell.copy()\n",
    "atm4=cell_base.pop(atom_list[2])\n",
    "atm3=cell_base.pop(atom_list[0])\n",
    "atm2=cell_base.pop(atom_list[3])\n",
    "atm2=cell_base.pop(atom_list[1])\n",
    "atm1=cell_base.pop(0)\n",
    "write(\"./cluster_struc_S8_big/pyramind_Al_eam.cfg\",cell_base)\n"
   ]
  },
  {
   "cell_type": "code",
   "execution_count": 18,
   "id": "20e04189",
   "metadata": {},
   "outputs": [
    {
     "name": "stdout",
     "output_type": "stream",
     "text": [
      "2.8637824638055176 [2.025 2.025 0.   ]\n",
      "2.8637824638055176 [2.025 0.    2.025]\n",
      "2.8637824638055176 [0.    2.025 2.025]\n",
      "4.960216729135936 [2.025 2.025 4.05 ]\n",
      "4.960216729135936 [2.025 4.05  2.025]\n",
      "4.960216729135936 [4.05  2.025 2.025]\n",
      "Target 1NN, Atom is 1\n",
      "Target 2NN, Atom is 2\n",
      "Target 3NN, Atom is 3\n",
      "Target 4NN, Atom is 5\n",
      "Target 5NN, Atom is 34\n",
      "Target 6NN, Atom is 259\n"
     ]
    }
   ],
   "source": [
    "# for octahedron(n = 6 and n p = 12)\n",
    "distances=[]\n",
    "\n",
    "a0=4.05\n",
    "vec_3=np.array([0,a0/2,a0/2])\n",
    "vec_2=np.array([a0/2,0,a0/2])\n",
    "vec_1=np.array([a0/2,a0/2,0])\n",
    "vec_4=np.array([a0/2,a0/2,a0])\n",
    "vec_5=np.array([a0/2,a0,a0/2])\n",
    "vec_6=np.array([a0,a0/2,a0/2])\n",
    "vecs = [vec_1,vec_2,vec_3,vec_4,vec_5,vec_6]\n",
    "\n",
    "for vec in vecs:\n",
    "    distances.append(np.linalg.norm(vec))\n",
    "    print(np.linalg.norm(vec),vec)\n",
    "cell2=cell.copy()\n",
    "# cell2 : Atoms object\n",
    "\n",
    "atom_list=[]\n",
    "\n",
    "for j,target in enumerate(vecs):\n",
    "    for i,atm in enumerate(cell2):\n",
    "        # atom : Atom object\n",
    "        if closed(atm.position,target):\n",
    "            print(\"Target {}NN, Atom is {}\".format(j+1,i))\n",
    "            atom_list.append(i)"
   ]
  },
  {
   "cell_type": "code",
   "execution_count": 19,
   "id": "4295be42",
   "metadata": {},
   "outputs": [],
   "source": [
    "from ase.io import write\n",
    "cell_base=cell.copy()\n",
    "atm6=cell_base.pop(atom_list[5])\n",
    "atm5=cell_base.pop(atom_list[4])\n",
    "atm4=cell_base.pop(atom_list[3])\n",
    "atm3=cell_base.pop(atom_list[2])\n",
    "atm2=cell_base.pop(atom_list[1])\n",
    "atm1=cell_base.pop(atom_list[0])\n",
    "write(\"./cluster_struc_S8_big/octahedron_Al_eam.cfg\",cell_base)\n"
   ]
  },
  {
   "cell_type": "code",
   "execution_count": 17,
   "id": "7ab99a86",
   "metadata": {},
   "outputs": [
    {
     "name": "stdout",
     "output_type": "stream",
     "text": [
      "7.014805770653953 [4.05 4.05 4.05]\n",
      "5.727564927611035 [4.05 4.05 0.  ]\n",
      "5.727564927611035 [4.05 0.   4.05]\n",
      "4.960216729135936 [2.025 2.025 4.05 ]\n",
      "4.960216729135936 [2.025 4.05  2.025]\n",
      "2.8637824638055176 [2.025 0.    2.025]\n",
      "2.8637824638055176 [2.025 2.025 0.   ]\n",
      "7.57685620821723 [6.075 2.025 4.05 ]\n",
      "6.403612261840967 [6.075 2.025 0.   ]\n",
      "6.403612261840967 [6.075 0.    2.025]\n",
      "7.576856208217231 [6.075 4.05  2.025]\n",
      "4.960216729135936 [4.05  2.025 2.025]\n",
      "4.05 [4.05 0.   0.  ]\n",
      "Target 1NN, Atom is 292\n",
      "Target 2NN, Atom is 288\n",
      "Target 3NN, Atom is 260\n",
      "Target 4NN, Atom is 5\n",
      "Target 5NN, Atom is 34\n",
      "Target 6NN, Atom is 2\n",
      "Target 7NN, Atom is 1\n",
      "Target 8NN, Atom is 261\n",
      "Target 9NN, Atom is 257\n",
      "Target 10NN, Atom is 258\n",
      "Target 11NN, Atom is 290\n",
      "Target 12NN, Atom is 259\n",
      "Target 13NN, Atom is 256\n"
     ]
    }
   ],
   "source": [
    "# for CNN(13)\n",
    "distances=[]\n",
    "\n",
    "a0=4.05\n",
    "vec_1=np.array([a0,a0,a0])\n",
    "vec_2=np.array([a0,a0,0])\n",
    "vec_3=np.array([a0,0,a0])\n",
    "vec_4=np.array([a0/2,a0/2,a0])\n",
    "vec_5=np.array([a0/2,a0,a0/2])\n",
    "vec_6=np.array([a0/2,0,a0/2])\n",
    "vec_7=np.array([a0/2,a0/2,0])\n",
    "vec_8=np.array([a0+a0/2,a0/2,a0])\n",
    "vec_9=np.array([a0+a0/2,a0/2,0])\n",
    "vec_10=np.array([a0+a0/2,0,a0/2])\n",
    "vec_11=np.array([a0+a0/2,a0,a0/2])\n",
    "vec_12=np.array([a0,a0/2,a0/2])\n",
    "vec_13=np.array([a0,0,0])\n",
    "vecs = [vec_1,vec_2,vec_3,vec_4,vec_5,vec_6,vec_7,vec_8,vec_9,vec_10,vec_11,vec_12,vec_13]\n",
    "\n",
    "for vec in vecs:\n",
    "    distances.append(np.linalg.norm(vec))\n",
    "    print(np.linalg.norm(vec),vec)\n",
    "cell2=cell.copy()\n",
    "# cell2 : Atoms object\n",
    "\n",
    "atom_list=[]\n",
    "\n",
    "for j,target in enumerate(vecs):\n",
    "    for i,atm in enumerate(cell2):\n",
    "        # atom : Atom object\n",
    "        if closed(atm.position,target):\n",
    "            print(\"Target {}NN, Atom is {}\".format(j+1,i))\n",
    "            atom_list.append(i)"
   ]
  },
  {
   "cell_type": "code",
   "execution_count": null,
   "id": "16f6dc55",
   "metadata": {},
   "outputs": [],
   "source": [
    "from ase.io import write\n",
    "cell_base=cell.copy()\n",
    "atm6=cell_base.pop(atom_list[0])\n",
    "atm5=cell_base.pop(atom_list[10])\n",
    "atm4=cell_base.pop(atom_list[1])\n",
    "atm3=cell_base.pop(atom_list[7])\n",
    "atm2=cell_base.pop(atom_list[2])\n",
    "atm1=cell_base.pop(atom_list[11])\n",
    "atm7=cell_base.pop(atom_list[9])\n",
    "atm8=cell_base.pop(atom_list[8])\n",
    "atm9=cell_base.pop(atom_list[12])\n",
    "atm10=cell_base.pop(atom_list[4])\n",
    "atm11=cell_base.pop(atom_list[3])\n",
    "atm12=cell_base.pop(atom_list[5])\n",
    "atm13=cell_base.pop(atom_list[6])\n",
    "write(\"./cluster_struc_S8_big/13_eam.cfg\",cell_base)"
   ]
  },
  {
   "cell_type": "markdown",
   "id": "743bdf33",
   "metadata": {},
   "source": [
    "## ACE structure"
   ]
  },
  {
   "cell_type": "code",
   "execution_count": 20,
   "id": "e451232c",
   "metadata": {},
   "outputs": [],
   "source": [
    "fcc = FaceCenteredCubic(directions=[[1,0,0], [0,1,0], [0,0,1]],\n",
    "                          size=(1,1,1), symbol=elm.symbol, pbc=(1,1,1),\n",
    "                          latticeconstant=4.04)"
   ]
  },
  {
   "cell_type": "code",
   "execution_count": 21,
   "id": "82f93bbb",
   "metadata": {},
   "outputs": [],
   "source": [
    "cell=fcc*[8,8,8]"
   ]
  },
  {
   "cell_type": "code",
   "execution_count": 22,
   "id": "e00b9279",
   "metadata": {},
   "outputs": [
    {
     "data": {
      "text/plain": [
       "Atom('Al', [0.0, 0.0, 0.0])"
      ]
     },
     "execution_count": 22,
     "metadata": {},
     "output_type": "execute_result"
    }
   ],
   "source": [
    "cell1=cell.copy() # !!! copy\n",
    "cell1.pop(0)"
   ]
  },
  {
   "cell_type": "code",
   "execution_count": 23,
   "id": "c4f9dcf6",
   "metadata": {},
   "outputs": [
    {
     "name": "stdout",
     "output_type": "stream",
     "text": [
      "2.856711395993652 [0.   2.02 2.02]\n"
     ]
    }
   ],
   "source": [
    "# for divacancy(n = 2 and n p = 1)\n",
    "distances=[]\n",
    "\n",
    "a0=4.04\n",
    "vec_1=np.array([0,a0/2,a0/2]) \n",
    "vecs = [vec_1]\n",
    "\n",
    "for vec in vecs:\n",
    "    distances.append(np.linalg.norm(vec))\n",
    "    print(np.linalg.norm(vec),vec)"
   ]
  },
  {
   "cell_type": "code",
   "execution_count": 24,
   "id": "c51a0607",
   "metadata": {},
   "outputs": [
    {
     "name": "stdout",
     "output_type": "stream",
     "text": [
      "Target 1NN, Atom is 3\n"
     ]
    }
   ],
   "source": [
    "cell2=cell.copy()\n",
    "# cell2 : Atoms object\n",
    "\n",
    "atom_list=[]\n",
    "\n",
    "for j,target in enumerate(vecs):\n",
    "    for i,atm in enumerate(cell2):\n",
    "        # atom : Atom object\n",
    "        if closed(atm.position,target):\n",
    "            print(\"Target {}NN, Atom is {}\".format(j+1,i))\n",
    "            atom_list.append(i)"
   ]
  },
  {
   "cell_type": "code",
   "execution_count": 25,
   "id": "4405858d",
   "metadata": {},
   "outputs": [],
   "source": [
    "from ase.io import write\n",
    "cell_base=cell.copy() # divacancy\n",
    "atm2=cell_base.pop(atom_list[0])  \n",
    "atm1=cell_base.pop(0)\n",
    "write(\"./cluster_struc_S8_big/divac_Al_ace.cfg\",cell_base)"
   ]
  },
  {
   "cell_type": "code",
   "execution_count": 26,
   "id": "38dcd74e",
   "metadata": {},
   "outputs": [],
   "source": [
    "write(\"./cluster_struc_S8_big/Al_ace.cfg\",cell)"
   ]
  },
  {
   "cell_type": "code",
   "execution_count": 27,
   "id": "035be7ad",
   "metadata": {},
   "outputs": [
    {
     "name": "stdout",
     "output_type": "stream",
     "text": [
      "2.856711395993652 [0.   2.02 2.02]\n",
      "4.04 [0.   0.   4.04]\n",
      "Target 1NN, Atom is 3\n",
      "Target 2NN, Atom is 4\n"
     ]
    }
   ],
   "source": [
    "# for triangle(n = 3 and n p = 3)\n",
    "distances=[]\n",
    "\n",
    "a0=4.04\n",
    "vec_1=np.array([0,a0/2,a0/2])\n",
    "vec_2=np.array([0,0,a0])\n",
    "vecs = [vec_1,vec_2]\n",
    "\n",
    "for vec in vecs:\n",
    "    distances.append(np.linalg.norm(vec))\n",
    "    print(np.linalg.norm(vec),vec)\n",
    "cell2=cell.copy()\n",
    "# cell2 : Atoms object\n",
    "\n",
    "atom_list=[]\n",
    "\n",
    "for j,target in enumerate(vecs):\n",
    "    for i,atm in enumerate(cell2):\n",
    "        # atom : Atom object\n",
    "        if closed(atm.position,target):\n",
    "            print(\"Target {}NN, Atom is {}\".format(j+1,i))\n",
    "            atom_list.append(i)\n",
    "\n",
    "from ase.io import write\n",
    "cell_base=cell.copy() \n",
    "atm3=cell_base.pop(atom_list[1])\n",
    "atm2=cell_base.pop(atom_list[0])  \n",
    "atm1=cell_base.pop(0)\n",
    "write(\"./cluster_struc_S8_big/tri_Al_ace.cfg\",cell_base)"
   ]
  },
  {
   "cell_type": "code",
   "execution_count": 28,
   "id": "1cbbcf5e",
   "metadata": {},
   "outputs": [
    {
     "name": "stdout",
     "output_type": "stream",
     "text": [
      "4.04 [4.04 0.   0.  ]\n",
      "4.04 [0.   0.   4.04]\n",
      "5.713422791987304 [4.04 0.   4.04]\n",
      "Target 1NN, Atom is 256\n",
      "Target 2NN, Atom is 4\n",
      "Target 3NN, Atom is 260\n"
     ]
    }
   ],
   "source": [
    "# for square(n = 4 and n p = 4)\n",
    "distances=[]\n",
    "\n",
    "a0=4.04\n",
    "vec_1=np.array([a0,0,0])\n",
    "vec_2=np.array([0,0,a0])\n",
    "vec_3=np.array([a0,0,a0])\n",
    "vecs = [vec_1,vec_2,vec_3]\n",
    "\n",
    "for vec in vecs:\n",
    "    distances.append(np.linalg.norm(vec))\n",
    "    print(np.linalg.norm(vec),vec)\n",
    "cell2=cell.copy()\n",
    "# cell2 : Atoms object\n",
    "\n",
    "atom_list=[]\n",
    "\n",
    "for j,target in enumerate(vecs):\n",
    "    for i,atm in enumerate(cell2):\n",
    "        # atom : Atom object\n",
    "        if closed(atm.position,target):\n",
    "            print(\"Target {}NN, Atom is {}\".format(j+1,i))\n",
    "            atom_list.append(i)\n",
    "#!mkdir ./square\n",
    "from ase.io import write\n",
    "cell_base=cell.copy()\n",
    "atm4=cell_base.pop(atom_list[2])\n",
    "atm3=cell_base.pop(atom_list[0])\n",
    "atm2=cell_base.pop(atom_list[1])  \n",
    "atm1=cell_base.pop(0)\n",
    "write(\"./cluster_struc_S8_big/sqr_Al_ace.cfg\",cell_base)"
   ]
  },
  {
   "cell_type": "code",
   "execution_count": 29,
   "id": "c1da5f20",
   "metadata": {},
   "outputs": [
    {
     "name": "stdout",
     "output_type": "stream",
     "text": [
      "2.856711395993652 [0.   2.02 2.02]\n",
      "4.94796928042202 [2.02 2.02 4.04]\n",
      "2.856711395993652 [2.02 0.   2.02]\n",
      "4.9479692804220194 [2.02 4.04 2.02]\n",
      "Target 1NN, Atom is 3\n",
      "Target 2NN, Atom is 5\n",
      "Target 3NN, Atom is 2\n",
      "Target 4NN, Atom is 34\n"
     ]
    }
   ],
   "source": [
    "# for bent rhombus(n = 4 and n p = 5)\n",
    "distances=[]\n",
    "\n",
    "a0=4.04\n",
    "vec_1=np.array([0,a0/2,a0/2])\n",
    "vec_2=np.array([a0/2,a0/2,a0])\n",
    "vec_3=np.array([a0/2,0,a0/2])\n",
    "vec_4 = np.array([a0/2,a0,a0/2]) \n",
    "vecs = [vec_1,vec_2,vec_3,vec_4]\n",
    "\n",
    "for vec in vecs:\n",
    "    distances.append(np.linalg.norm(vec))\n",
    "    print(np.linalg.norm(vec),vec)\n",
    "cell2=cell.copy()\n",
    "# cell2 : Atoms object\n",
    "\n",
    "atom_list=[]\n",
    "\n",
    "for j,target in enumerate(vecs):\n",
    "    for i,atm in enumerate(cell2):\n",
    "        # atom : Atom object\n",
    "        if closed(atm.position,target):\n",
    "            print(\"Target {}NN, Atom is {}\".format(j+1,i))\n",
    "            atom_list.append(i)\n",
    "#!mkdir ./bent_rhombus\n",
    "from ase.io import write\n",
    "cell_base=cell.copy()\n",
    "atm5=cell_base.pop(atom_list[3])\n",
    "atm4=cell_base.pop(atom_list[1])\n",
    "atm3=cell_base.pop(atom_list[0])\n",
    "atm2=cell_base.pop(atom_list[2])  \n",
    "#atm1=cell_base.pop(0)\n",
    "write(\"./cluster_struc_S8_big/b_rhom_Al_ace.cfg\",cell_base)"
   ]
  },
  {
   "cell_type": "code",
   "execution_count": 30,
   "id": "212bd911",
   "metadata": {},
   "outputs": [
    {
     "name": "stdout",
     "output_type": "stream",
     "text": [
      "2.856711395993652 [0.   2.02 2.02]\n",
      "4.04 [0.   0.   4.04]\n",
      "4.9479692804220194 [2.02 4.04 2.02]\n",
      "Target 1NN, Atom is 3\n",
      "Target 2NN, Atom is 4\n",
      "Target 3NN, Atom is 34\n"
     ]
    }
   ],
   "source": [
    "# for tetrahedron(n = 4 and n p = 6)\n",
    "distances=[]\n",
    "\n",
    "a0=4.04\n",
    "vec_1=np.array([0,a0/2,a0/2])\n",
    "vec_2=np.array([0,0,a0])\n",
    "vec_3=np.array([a0/2,a0,a0/2])\n",
    "vecs = [vec_1,vec_2,vec_3]\n",
    "\n",
    "for vec in vecs:\n",
    "    distances.append(np.linalg.norm(vec))\n",
    "    print(np.linalg.norm(vec),vec)\n",
    "cell2=cell.copy()\n",
    "# cell2 : Atoms object\n",
    "\n",
    "atom_list=[]\n",
    "\n",
    "for j,target in enumerate(vecs):\n",
    "    for i,atm in enumerate(cell2):\n",
    "        # atom : Atom object\n",
    "        if closed(atm.position,target):\n",
    "            print(\"Target {}NN, Atom is {}\".format(j+1,i))\n",
    "            atom_list.append(i)\n",
    "\n",
    "from ase.io import write\n",
    "cell_base=cell.copy() \n",
    "atm4=cell_base.pop(atom_list[2])\n",
    "atm3=cell_base.pop(atom_list[1]) \n",
    "atm2=cell_base.pop(atom_list[0])\n",
    "atm1=cell_base.pop(0)\n",
    "write(\"./cluster_struc_S8_big/tetra_Al_ace.cfg\",cell_base)"
   ]
  },
  {
   "cell_type": "code",
   "execution_count": 31,
   "id": "9d44dcd9",
   "metadata": {},
   "outputs": [
    {
     "name": "stdout",
     "output_type": "stream",
     "text": [
      "4.04 [4.04 0.   0.  ]\n",
      "4.04 [0.   0.   4.04]\n",
      "5.713422791987304 [4.04 0.   4.04]\n",
      "4.9479692804220194 [2.02 4.04 2.02]\n",
      "Target 1NN, Atom is 256\n",
      "Target 2NN, Atom is 4\n",
      "Target 3NN, Atom is 260\n",
      "Target 4NN, Atom is 34\n"
     ]
    }
   ],
   "source": [
    "# for pyramid(n = 5 and n p = 8)\n",
    "distances=[]\n",
    "\n",
    "a0=4.04\n",
    "vec_1=np.array([a0,0,0])\n",
    "vec_2=np.array([0,0,a0])\n",
    "vec_3=np.array([a0,0,a0])\n",
    "vec_4=np.array([a0/2,a0,a0/2])\n",
    "vecs = [vec_1,vec_2,vec_3,vec_4]\n",
    "\n",
    "for vec in vecs:\n",
    "    distances.append(np.linalg.norm(vec))\n",
    "    print(np.linalg.norm(vec),vec)\n",
    "cell2=cell.copy()\n",
    "# cell2 : Atoms object\n",
    "\n",
    "atom_list=[]\n",
    "\n",
    "for j,target in enumerate(vecs):\n",
    "    for i,atm in enumerate(cell2):\n",
    "        # atom : Atom object\n",
    "        if closed(atm.position,target):\n",
    "            print(\"Target {}NN, Atom is {}\".format(j+1,i))\n",
    "            atom_list.append(i)\n",
    "\n",
    "from ase.io import write\n",
    "cell_base=cell.copy()\n",
    "atm4=cell_base.pop(atom_list[2])\n",
    "atm3=cell_base.pop(atom_list[0])\n",
    "atm2=cell_base.pop(atom_list[3])\n",
    "atm2=cell_base.pop(atom_list[1])\n",
    "atm1=cell_base.pop(0)\n",
    "write(\"./cluster_struc_S8_big/pyramind_Al_ace.cfg\",cell_base)"
   ]
  },
  {
   "cell_type": "code",
   "execution_count": 32,
   "id": "ad15dd13",
   "metadata": {},
   "outputs": [
    {
     "name": "stdout",
     "output_type": "stream",
     "text": [
      "2.856711395993652 [2.02 2.02 0.  ]\n",
      "2.856711395993652 [2.02 0.   2.02]\n",
      "2.856711395993652 [0.   2.02 2.02]\n",
      "4.94796928042202 [2.02 2.02 4.04]\n",
      "4.9479692804220194 [2.02 4.04 2.02]\n",
      "4.94796928042202 [4.04 2.02 2.02]\n",
      "Target 1NN, Atom is 1\n",
      "Target 2NN, Atom is 2\n",
      "Target 3NN, Atom is 3\n",
      "Target 4NN, Atom is 5\n",
      "Target 5NN, Atom is 34\n",
      "Target 6NN, Atom is 259\n"
     ]
    }
   ],
   "source": [
    "# for octahedron(n = 6 and n p = 12)\n",
    "distances=[]\n",
    "\n",
    "a0=4.04\n",
    "vec_3=np.array([0,a0/2,a0/2])\n",
    "vec_2=np.array([a0/2,0,a0/2])\n",
    "vec_1=np.array([a0/2,a0/2,0])\n",
    "vec_4=np.array([a0/2,a0/2,a0])\n",
    "vec_5=np.array([a0/2,a0,a0/2])\n",
    "vec_6=np.array([a0,a0/2,a0/2])\n",
    "vecs = [vec_1,vec_2,vec_3,vec_4,vec_5,vec_6]\n",
    "\n",
    "for vec in vecs:\n",
    "    distances.append(np.linalg.norm(vec))\n",
    "    print(np.linalg.norm(vec),vec)\n",
    "cell2=cell.copy()\n",
    "# cell2 : Atoms object\n",
    "\n",
    "atom_list=[]\n",
    "\n",
    "for j,target in enumerate(vecs):\n",
    "    for i,atm in enumerate(cell2):\n",
    "        # atom : Atom object\n",
    "        if closed(atm.position,target):\n",
    "            print(\"Target {}NN, Atom is {}\".format(j+1,i))\n",
    "            atom_list.append(i)"
   ]
  },
  {
   "cell_type": "code",
   "execution_count": 33,
   "id": "24551446",
   "metadata": {},
   "outputs": [],
   "source": [
    "from ase.io import write\n",
    "cell_base=cell.copy()\n",
    "atm6=cell_base.pop(atom_list[5])\n",
    "atm5=cell_base.pop(atom_list[4])\n",
    "atm4=cell_base.pop(atom_list[3])\n",
    "atm3=cell_base.pop(atom_list[2])\n",
    "atm2=cell_base.pop(atom_list[1])\n",
    "atm2=cell_base.pop(atom_list[0])\n",
    "#atm1=cell_base.pop(0)\n",
    "write(\"./cluster_struc_S8_big/octahedron_Al_ace.cfg\",cell_base)"
   ]
  },
  {
   "cell_type": "code",
   "execution_count": 34,
   "id": "cbe24252",
   "metadata": {},
   "outputs": [
    {
     "name": "stdout",
     "output_type": "stream",
     "text": [
      "6.997485262578264 [4.04 4.04 4.04]\n",
      "5.713422791987304 [4.04 4.04 0.  ]\n",
      "5.713422791987304 [4.04 0.   4.04]\n",
      "4.94796928042202 [2.02 2.02 4.04]\n",
      "4.9479692804220194 [2.02 4.04 2.02]\n",
      "2.856711395993652 [2.02 0.   2.02]\n",
      "2.856711395993652 [2.02 2.02 0.  ]\n",
      "7.5581479212833615 [6.06 2.02 4.04]\n",
      "6.387800873540127 [6.06 2.02 0.  ]\n",
      "6.387800873540127 [6.06 0.   2.02]\n",
      "7.5581479212833615 [6.06 4.04 2.02]\n",
      "4.94796928042202 [4.04 2.02 2.02]\n",
      "4.04 [4.04 0.   0.  ]\n",
      "Target 1NN, Atom is 292\n",
      "Target 2NN, Atom is 288\n",
      "Target 3NN, Atom is 260\n",
      "Target 4NN, Atom is 5\n",
      "Target 5NN, Atom is 34\n",
      "Target 6NN, Atom is 2\n",
      "Target 7NN, Atom is 1\n",
      "Target 8NN, Atom is 261\n",
      "Target 9NN, Atom is 257\n",
      "Target 10NN, Atom is 258\n",
      "Target 11NN, Atom is 290\n",
      "Target 12NN, Atom is 259\n",
      "Target 13NN, Atom is 256\n"
     ]
    }
   ],
   "source": [
    "# for CNN(13)\n",
    "distances=[]\n",
    "\n",
    "a0=4.04\n",
    "vec_1=np.array([a0,a0,a0])\n",
    "vec_2=np.array([a0,a0,0])\n",
    "vec_3=np.array([a0,0,a0])\n",
    "vec_4=np.array([a0/2,a0/2,a0])\n",
    "vec_5=np.array([a0/2,a0,a0/2])\n",
    "vec_6=np.array([a0/2,0,a0/2])\n",
    "vec_7=np.array([a0/2,a0/2,0])\n",
    "vec_8=np.array([a0+a0/2,a0/2,a0])\n",
    "vec_9=np.array([a0+a0/2,a0/2,0])\n",
    "vec_10=np.array([a0+a0/2,0,a0/2])\n",
    "vec_11=np.array([a0+a0/2,a0,a0/2])\n",
    "vec_12=np.array([a0,a0/2,a0/2])\n",
    "vec_13=np.array([a0,0,0])\n",
    "vecs = [vec_1,vec_2,vec_3,vec_4,vec_5,vec_6,vec_7,vec_8,vec_9,vec_10,vec_11,vec_12,vec_13]\n",
    "\n",
    "for vec in vecs:\n",
    "    distances.append(np.linalg.norm(vec))\n",
    "    print(np.linalg.norm(vec),vec)\n",
    "cell2=cell.copy()\n",
    "# cell2 : Atoms object\n",
    "\n",
    "atom_list=[]\n",
    "\n",
    "for j,target in enumerate(vecs):\n",
    "    for i,atm in enumerate(cell2):\n",
    "        # atom : Atom object\n",
    "        if closed(atm.position,target):\n",
    "            print(\"Target {}NN, Atom is {}\".format(j+1,i))\n",
    "            atom_list.append(i)"
   ]
  },
  {
   "cell_type": "code",
   "execution_count": 35,
   "id": "ea27c46d",
   "metadata": {},
   "outputs": [],
   "source": [
    "from ase.io import write\n",
    "cell_base=cell.copy()\n",
    "atm6=cell_base.pop(atom_list[0])\n",
    "atm5=cell_base.pop(atom_list[10])\n",
    "atm4=cell_base.pop(atom_list[1])\n",
    "atm3=cell_base.pop(atom_list[7])\n",
    "atm2=cell_base.pop(atom_list[2])\n",
    "atm1=cell_base.pop(atom_list[11])\n",
    "atm7=cell_base.pop(atom_list[9])\n",
    "atm8=cell_base.pop(atom_list[8])\n",
    "atm9=cell_base.pop(atom_list[12])\n",
    "atm10=cell_base.pop(atom_list[4])\n",
    "atm11=cell_base.pop(atom_list[3])\n",
    "atm12=cell_base.pop(atom_list[5])\n",
    "atm13=cell_base.pop(atom_list[6])\n",
    "write(\"./cluster_struc_S8_big/13_ace.cfg\",cell_base)"
   ]
  },
  {
   "cell_type": "markdown",
   "id": "3900c5c4",
   "metadata": {},
   "source": [
    "## Cluster Calculation"
   ]
  },
  {
   "cell_type": "code",
   "execution_count": 62,
   "id": "5215bf12",
   "metadata": {},
   "outputs": [],
   "source": [
    "def graph_init():\n",
    "    #plt.rcParams['text.usetex'] = True\n",
    "    plt.figure(figsize=(8,6))\n",
    "    plt.style.use('seaborn-paper')\n",
    "    params = {'font.size':16 , 'legend.fontsize': 14,'xtick.labelsize' : 14,'ytick.labelsize' : 14,'axes.labelsize' : 16}\n",
    "    plt.rcParams.update(params)"
   ]
  },
  {
   "cell_type": "code",
   "execution_count": 63,
   "id": "ed198e8a",
   "metadata": {},
   "outputs": [],
   "source": [
    "#from ase.neb import NEB, NEBTools\n",
    "from ase.neb import SingleCalculatorNEB, NEBTools\n",
    "# Load AMS Tools (REQUIRED)\n",
    "from amstools import *\n",
    "# Load pyace (REQUIRED)\n",
    "from pyace import *\n",
    "from ase.io import cfg"
   ]
  },
  {
   "cell_type": "code",
   "execution_count": 64,
   "id": "2f3590f9",
   "metadata": {},
   "outputs": [],
   "source": [
    "def mycalc(key):\n",
    "    if key == 'eam':\n",
    "        # EAM calculator\n",
    "\n",
    "        #pot_folder = '/home/users/kraycazx/workdir/gitworkdir/2_bcc_multipot/0_Potentials/Al'\n",
    "        os.environ['ASE_LAMMPSRUN_COMMAND']='/home/eliza/Downloads/lammps-16Mar18/src/lmp_mpi'\n",
    "        #potential_file='{}/Eam_Al_99.eam'.format(pot_folder) they can add without % or +\n",
    "        potential_file=\"Al99.eam.alloy\"\n",
    "        calculator_lmp_params = {'mass': ['1 {}'.format(elm.mass)],\n",
    "            'pair_style': 'eam/fs',\n",
    "            'pair_coeff': ['* * {} {}'.format(potential_file,elm.symbol)],\n",
    "            'keep_tmp_files' : True,\n",
    "            'tmp_dir' : \"/tmp/test_eam\"}\n",
    "        from ase.calculators.lammpsrun import LAMMPS\n",
    "        calc = LAMMPS(**calculator_lmp_params)\n",
    "        return calc\n",
    "    if key == 'ace':\n",
    "        \n",
    "        potential_file=\"Al.pbe.in.yaml\"\n",
    "        calc = PyACECalculator(potential_file)\n",
    "        return calc"
   ]
  },
  {
   "cell_type": "code",
   "execution_count": 36,
   "id": "ca860a1d",
   "metadata": {},
   "outputs": [],
   "source": [
    "\n",
    "atoms = [2,3,4,4,4,5,6]"
   ]
  },
  {
   "cell_type": "code",
   "execution_count": 37,
   "id": "2c3e8fe0",
   "metadata": {},
   "outputs": [
    {
     "data": {
      "text/plain": [
       "2048"
      ]
     },
     "execution_count": 37,
     "metadata": {},
     "output_type": "execute_result"
    }
   ],
   "source": [
    "N=len(cell)\n",
    "N"
   ]
  },
  {
   "cell_type": "code",
   "execution_count": null,
   "id": "21f17073",
   "metadata": {},
   "outputs": [],
   "source": [
    "myresults2={}\n",
    "\n",
    "for key in ['eam','ace']:\n",
    "    myresults2[key]={}\n",
    "    print(key)\n",
    "    #cell.set_calculator(mycalc(key))\n",
    "    Al_cell=\"./cluster_struc_S6_big/Al_{}.cfg\".format(key)\n",
    "    comp_cell=cfg.read_cfg(Al_cell)\n",
    "    def relax(cell,fmax=1E-3,calc=mycalc(key),runing=True):\n",
    "        cell.set_calculator(calc)\n",
    "        rlx=LBFGS(cell)\n",
    "        if runing:\n",
    "            rlx.run(fmax=fmax) \n",
    "        return(cell.get_potential_energy())\n",
    "    E_0_relax = relax(comp_cell,fmax=0.001,runing=True)\n",
    "    E_0 = relax(comp_cell,fmax=0.001,runing=False)\n",
    "    #cells=create_cells(cell)\n",
    "    cell1=cell.copy()\n",
    "    cell1.pop(0)\n",
    "    divacancy_energies_unrelax=[]\n",
    "    divacancy_energies_relax=[]\n",
    "    divacancy_formation_unrelax = []\n",
    "    divacancy_formation_relax = []\n",
    "    folder = ['./cluster_struc_S6_big/divac_Al_{}.cfg'.format(key), './cluster_struc_S6_big/tri_Al_{}.cfg'.format(key),\n",
    "              './cluster_struc_S6_big/sqr_Al_{}.cfg'.format(key),\n",
    "          './cluster_struc_S6_big/b_rhom_Al_{}.cfg'.format(key),'./cluster_struc_S6_big/tetra_Al_{}.cfg'.format(key),\n",
    "              './cluster_struc_S6_big/pyramind_Al_{}.cfg'.format(key),\n",
    "          './cluster_struc_S6_big/octahedron_Al_{}.cfg'.format(key)]\n",
    "    for i, j in zip(folder, atoms):\n",
    "        initial_cell= i\n",
    "        cell_base=cfg.read_cfg(initial_cell)\n",
    "        E_f_1 = relax(cell1,fmax=0.001,runing=False) - ((N-1) * E_0/N)\n",
    "        E_f_2 = relax(cell1,fmax=0.001,runing=True) - (N-1) * E_0_relax/N\n",
    "        d_f_ur = ( relax(cell_base,fmax=0.001,runing=False) - ((N-j) * E_0/N) )\n",
    "        d_f_r = ( relax(cell_base,fmax=0.001,runing=True) - ((N-j) * E_0_relax/N) )\n",
    "        divacancy_energies_unrelax.append( j*E_f_1 - d_f_ur )\n",
    "        divacancy_energies_relax.append( j*E_f_2 - d_f_r )\n",
    "        divacancy_formation_unrelax.append(d_f_ur)\n",
    "        divacancy_formation_relax.append(d_f_r)\n",
    "    myresults2[key]['divac_e_ur']=divacancy_energies_unrelax\n",
    "    myresults2[key]['divac_e_r']=divacancy_energies_relax\n",
    "    myresults2[key]['divac_f_ur']=divacancy_formation_unrelax\n",
    "    myresults2[key]['divac_f_r']=divacancy_formation_relax\n",
    "    myresults2[key]['Ef_ur']=E_f_1\n",
    "    myresults2[key]['Ef_r']=E_f_2\n",
    "\n",
    "\n",
    "#print(a0,E_0)\n",
    "print('unrelax',divacancy_energies_unrelax)\n",
    "print('relax',divacancy_energies_relax)\n"
   ]
  },
  {
   "cell_type": "code",
   "execution_count": 68,
   "id": "624b26ac",
   "metadata": {},
   "outputs": [],
   "source": [
    "for key in ['eam','ace']:\n",
    "    myresults2[key]['X']= [1,3,4,5,6,8,12]"
   ]
  },
  {
   "cell_type": "code",
   "execution_count": null,
   "id": "7763bbba",
   "metadata": {},
   "outputs": [],
   "source": [
    "np.save('cluster_S8_big.npy',myresults2)\n",
    "test1=np.load('cluster_S8_big.npy',allow_pickle='TRUE')\n",
    "test1"
   ]
  },
  {
   "cell_type": "code",
   "execution_count": null,
   "id": "a14d851b",
   "metadata": {},
   "outputs": [],
   "source": [
    "myresults={}\n",
    "\n",
    "for key in ['eam','ace']:\n",
    "    myresults[key]={}\n",
    "    print(key)\n",
    "    #cell.set_calculator(mycalc(key))\n",
    "    Al_cell=\"./cluster_struc_S6_big/Al_{}.cfg\".format(key)\n",
    "    comp_cell=cfg.read_cfg(Al_cell)\n",
    "    def relax(cell,fmax=1E-3,calc=mycalc(key),runing=True):\n",
    "        cell.set_calculator(calc)\n",
    "        rlx=LBFGS(cell)\n",
    "        if runing:\n",
    "            rlx.run(fmax=fmax) \n",
    "        return(cell.get_potential_energy())\n",
    "    E_0_relax = relax(comp_cell,fmax=0.001,runing=True)\n",
    "    E_0 = relax(comp_cell,fmax=0.001,runing=False)\n",
    "    #cells=create_cells(cell)\n",
    "    cell1=cell.copy()\n",
    "    cell1.pop(0)\n",
    "    divacancy_energies_unrelax=[]\n",
    "    divacancy_energies_relax=[]\n",
    "    divacancy_formation_unrelax = []\n",
    "    divacancy_formation_relax = []\n",
    "    folders = ['./cluster_struc_S6_big/13_{}.cfg'.format(key)]\n",
    "    atom = [12]\n",
    "    for i, j in zip(folders, atom):\n",
    "        initial_cell= i\n",
    "        cell_base=cfg.read_cfg(initial_cell)\n",
    "        E_f_1 = relax(cell1,fmax=0.001,runing=False) - ((N-1) * E_0/N)\n",
    "        E_f_2 = relax(cell1,fmax=0.001,runing=True) - (N-1) * E_0_relax/N\n",
    "        d_f_ur = ( relax(cell_base,fmax=0.001,runing=False) - ((N-j) * E_0/N) )\n",
    "        d_f_r = ( relax(cell_base,fmax=0.001,runing=True) - ((N-j) * E_0_relax/N) )\n",
    "        divacancy_energies_unrelax.append( j*E_f_1 - d_f_ur )\n",
    "        divacancy_energies_relax.append( j*E_f_2 - d_f_r )\n",
    "        divacancy_formation_unrelax.append(d_f_ur)\n",
    "        divacancy_formation_relax.append(d_f_r)\n",
    "    myresults[key]['divac_13_e_ur']=divacancy_energies_unrelax\n",
    "    myresults[key]['divac_13_e_r']=divacancy_energies_relax\n",
    "    myresults[key]['divac_13_f_ur']=divacancy_formation_unrelax\n",
    "    myresults[key]['divac_13_f_r']=divacancy_formation_relax\n",
    "    myresults[key]['Ef_13_ur']=E_f_1\n",
    "    myresults[key]['Ef_13_r']=E_f_2\n",
    "\n",
    "\n",
    "#print(a0,E_0)\n",
    "print('unrelax',divacancy_energies_unrelax)\n",
    "print('relax',divacancy_energies_relax)"
   ]
  },
  {
   "cell_type": "code",
   "execution_count": null,
   "id": "4b9c9ce7",
   "metadata": {},
   "outputs": [],
   "source": [
    "%matplotlib notebook\n",
    "graph_init()\n",
    "for key in ['eam','ace']:\n",
    "    for i in ['unrelax','relax']:\n",
    "        if i == 'unrelax':\n",
    "            plt.plot(myresults2[key]['X'],myresults2[key]['divac_e_ur'],'-o',label='{}_{}'.format(key,i))\n",
    "        if i == 'relax':\n",
    "            plt.plot(myresults2[key]['X'],myresults2[key]['divac_e_r'],'-o',label='{}_{}'.format(key,i))\n",
    "        plt.xlabel(\"No of pair\")\n",
    "        plt.ylabel(\"Binding energy (eV)\")\n",
    "\n",
    "        plt.subplots_adjust(left=0.15,\n",
    "                            bottom=0.1, \n",
    "                            right=0.95, \n",
    "                            top=0.90, \n",
    "                            wspace=0.05, \n",
    "                            hspace=0.05)\n",
    "        plt.legend()"
   ]
  },
  {
   "cell_type": "code",
   "execution_count": null,
   "id": "23876fda",
   "metadata": {},
   "outputs": [],
   "source": [
    "np.save('cluster_S6_13.npy',myresults)\n",
    "test2=np.load('cluster_S6_13.npy',allow_pickle='TRUE')\n",
    "test2"
   ]
  }
 ],
 "metadata": {
  "kernelspec": {
   "display_name": "Python 3",
   "language": "python",
   "name": "python3"
  },
  "language_info": {
   "codemirror_mode": {
    "name": "ipython",
    "version": 3
   },
   "file_extension": ".py",
   "mimetype": "text/x-python",
   "name": "python",
   "nbconvert_exporter": "python",
   "pygments_lexer": "ipython3",
   "version": "3.8.8"
  }
 },
 "nbformat": 4,
 "nbformat_minor": 5
}
