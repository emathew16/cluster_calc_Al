{
 "cells": [
  {
   "cell_type": "code",
   "execution_count": 1,
   "id": "3f666aef",
   "metadata": {},
   "outputs": [],
   "source": [
    "import ase\n",
    "from mendeleev import Al as elm  # The species\n",
    "import os\n",
    "from amstools import *\n",
    "from ase.lattice.cubic import FaceCenteredCubic\n",
    "import matplotlib.pyplot as plt\n",
    "import numpy as np"
   ]
  },
  {
   "cell_type": "code",
   "execution_count": 7,
   "id": "d0c2fe1d",
   "metadata": {},
   "outputs": [],
   "source": [
    "def closed(atom,target,dif=[0.1,0.1,0.1]):\n",
    "    check=[False,False,False]\n",
    "    for i in range(3):\n",
    "        if atom[i] > target[i]-dif[i] and atom[i] < target[i]+dif[i]:\n",
    "            check[i]=True\n",
    "    return all(check)"
   ]
  },
  {
   "cell_type": "code",
   "execution_count": 32,
   "id": "dde04cae",
   "metadata": {},
   "outputs": [],
   "source": [
    "fcc = FaceCenteredCubic(directions=[[1,0,0], [0,1,0], [0,0,1]],\n",
    "                          size=(1,1,1), symbol=elm.symbol, pbc=(1,1,1),\n",
    "                          latticeconstant=4.05)"
   ]
  },
  {
   "cell_type": "code",
   "execution_count": 85,
   "id": "e4640c90",
   "metadata": {},
   "outputs": [],
   "source": [
    "cell=fcc*[6,6,6]\n",
    "#cell = fcc*(2,2,2)"
   ]
  },
  {
   "cell_type": "code",
   "execution_count": 86,
   "id": "b9c6c333",
   "metadata": {},
   "outputs": [
    {
     "data": {
      "text/plain": [
       "Atom('Al', [0.0, 0.0, 0.0])"
      ]
     },
     "execution_count": 86,
     "metadata": {},
     "output_type": "execute_result"
    }
   ],
   "source": [
    "cell1=cell.copy() # !!! copy\n",
    "cell1.pop(0)"
   ]
  },
  {
   "cell_type": "code",
   "execution_count": 71,
   "id": "210a5a9f",
   "metadata": {},
   "outputs": [
    {
     "name": "stdout",
     "output_type": "stream",
     "text": [
      "2.8637824638055176 [0.    2.025 2.025]\n"
     ]
    }
   ],
   "source": [
    "# for divacancy(n = 2 and n p = 1)\n",
    "distances=[]\n",
    "\n",
    "a0=4.05\n",
    "vec_1=np.array([0,a0/2,a0/2]) \n",
    "vecs = [vec_1]\n",
    "\n",
    "for vec in vecs:\n",
    "    distances.append(np.linalg.norm(vec))\n",
    "    print(np.linalg.norm(vec),vec)"
   ]
  },
  {
   "cell_type": "code",
   "execution_count": 74,
   "id": "02871bc8",
   "metadata": {},
   "outputs": [
    {
     "name": "stdout",
     "output_type": "stream",
     "text": [
      "Target 1NN, Atom is 3\n"
     ]
    }
   ],
   "source": [
    "cell2=cell.copy()\n",
    "# cell2 : Atoms object\n",
    "\n",
    "atom_list=[]\n",
    "\n",
    "for j,target in enumerate(vecs):\n",
    "    for i,atm in enumerate(cell2):\n",
    "        # atom : Atom object\n",
    "        if closed(atm.position,target):\n",
    "            print(\"Target {}NN, Atom is {}\".format(j+1,i))\n",
    "            atom_list.append(i)"
   ]
  },
  {
   "cell_type": "code",
   "execution_count": 75,
   "id": "2b07f811",
   "metadata": {},
   "outputs": [],
   "source": [
    "!mkdir ./cluster_struc\n",
    "from ase.io import write\n",
    "cell_base=cell.copy() # divacancy\n",
    "atm2=cell_base.pop(atom_list[0])  \n",
    "atm1=cell_base.pop(0)\n",
    "write(\"./cluster_struc/divac_Al.cfg\",cell_base)\n"
   ]
  },
  {
   "cell_type": "code",
   "execution_count": 76,
   "id": "d21e5ea1",
   "metadata": {},
   "outputs": [],
   "source": [
    "write(\"./cluster_struc/Al.cfg\",cell)"
   ]
  },
  {
   "cell_type": "code",
   "execution_count": 77,
   "id": "b841b641",
   "metadata": {},
   "outputs": [
    {
     "name": "stdout",
     "output_type": "stream",
     "text": [
      "2.8637824638055176 [0.    2.025 2.025]\n",
      "4.05 [0.   4.05 0.  ]\n",
      "Target 1NN, Atom is 3\n",
      "Target 2NN, Atom is 8\n"
     ]
    }
   ],
   "source": [
    "# for triangle(n = 3 and n p = 3)\n",
    "distances=[]\n",
    "\n",
    "a0=4.05\n",
    "vec_1=np.array([0,a0/2,a0/2])\n",
    "vec_2=np.array([0,a0,0])\n",
    "vecs = [vec_1,vec_2]\n",
    "\n",
    "for vec in vecs:\n",
    "    distances.append(np.linalg.norm(vec))\n",
    "    print(np.linalg.norm(vec),vec)\n",
    "cell2=cell.copy()\n",
    "# cell2 : Atoms object\n",
    "\n",
    "atom_list=[]\n",
    "\n",
    "for j,target in enumerate(vecs):\n",
    "    for i,atm in enumerate(cell2):\n",
    "        # atom : Atom object\n",
    "        if closed(atm.position,target):\n",
    "            print(\"Target {}NN, Atom is {}\".format(j+1,i))\n",
    "            atom_list.append(i)\n",
    "\n",
    "from ase.io import write\n",
    "cell_base=cell.copy() \n",
    "atm3=cell_base.pop(atom_list[1])\n",
    "atm2=cell_base.pop(atom_list[0])  \n",
    "atm1=cell_base.pop(0)\n",
    "write(\"./cluster_struc/tri_Al.cfg\",cell_base)\n"
   ]
  },
  {
   "cell_type": "code",
   "execution_count": 78,
   "id": "e0ef3974",
   "metadata": {},
   "outputs": [
    {
     "name": "stdout",
     "output_type": "stream",
     "text": [
      "4.05 [4.05 0.   0.  ]\n",
      "4.05 [0.   0.   4.05]\n",
      "5.727564927611035 [4.05 0.   4.05]\n",
      "Target 1NN, Atom is 16\n",
      "Target 2NN, Atom is 4\n",
      "Target 3NN, Atom is 20\n"
     ]
    }
   ],
   "source": [
    "# for square(n = 4 and n p = 4)\n",
    "distances=[]\n",
    "\n",
    "a0=4.05\n",
    "vec_1=np.array([a0,0,0])\n",
    "vec_2=np.array([0,0,a0])\n",
    "vec_3=np.array([a0,0,a0])\n",
    "vecs = [vec_1,vec_2,vec_3]\n",
    "\n",
    "for vec in vecs:\n",
    "    distances.append(np.linalg.norm(vec))\n",
    "    print(np.linalg.norm(vec),vec)\n",
    "cell2=cell.copy()\n",
    "# cell2 : Atoms object\n",
    "\n",
    "atom_list=[]\n",
    "\n",
    "for j,target in enumerate(vecs):\n",
    "    for i,atm in enumerate(cell2):\n",
    "        # atom : Atom object\n",
    "        if closed(atm.position,target):\n",
    "            print(\"Target {}NN, Atom is {}\".format(j+1,i))\n",
    "            atom_list.append(i)\n",
    "#!mkdir ./square\n",
    "from ase.io import write\n",
    "cell_base=cell.copy()\n",
    "atm4=cell_base.pop(atom_list[2])\n",
    "atm3=cell_base.pop(atom_list[0])\n",
    "atm2=cell_base.pop(atom_list[1])  \n",
    "atm1=cell_base.pop(0)\n",
    "write(\"./cluster_struc/sqr_Al.cfg\",cell_base)\n"
   ]
  },
  {
   "cell_type": "code",
   "execution_count": 79,
   "id": "2f43bdd2",
   "metadata": {},
   "outputs": [
    {
     "name": "stdout",
     "output_type": "stream",
     "text": [
      "4.05 [0.   0.   4.05]\n",
      "2.8637824638055176 [0.    2.025 2.025]\n",
      "2.8637824638055176 [2.025 0.    2.025]\n",
      "Target 1NN, Atom is 4\n",
      "Target 2NN, Atom is 3\n",
      "Target 3NN, Atom is 2\n"
     ]
    }
   ],
   "source": [
    "# for bent rhombus(n = 4 and n p = 5)\n",
    "distances=[]\n",
    "\n",
    "a0=4.05\n",
    "vec_1=np.array([0,0,a0])\n",
    "vec_2=np.array([0,a0/2,a0/2])\n",
    "vec_3=np.array([a0/2,0,a0/2])\n",
    "vecs = [vec_1,vec_2,vec_3]\n",
    "\n",
    "for vec in vecs:\n",
    "    distances.append(np.linalg.norm(vec))\n",
    "    print(np.linalg.norm(vec),vec)\n",
    "cell2=cell.copy()\n",
    "# cell2 : Atoms object\n",
    "\n",
    "atom_list=[]\n",
    "\n",
    "for j,target in enumerate(vecs):\n",
    "    for i,atm in enumerate(cell2):\n",
    "        # atom : Atom object\n",
    "        if closed(atm.position,target):\n",
    "            print(\"Target {}NN, Atom is {}\".format(j+1,i))\n",
    "            atom_list.append(i)\n",
    "#!mkdir ./bent_rhombus\n",
    "from ase.io import write\n",
    "cell_base=cell.copy()\n",
    "atm4=cell_base.pop(atom_list[2])\n",
    "atm3=cell_base.pop(atom_list[1])\n",
    "atm2=cell_base.pop(atom_list[0])  \n",
    "atm1=cell_base.pop(0)\n",
    "write(\"./cluster_struc/b_rhom_Al.cfg\",cell_base)\n"
   ]
  },
  {
   "cell_type": "code",
   "execution_count": 80,
   "id": "f510bf8d",
   "metadata": {},
   "outputs": [
    {
     "name": "stdout",
     "output_type": "stream",
     "text": [
      "2.8637824638055176 [0.    2.025 2.025]\n",
      "4.05 [0.   4.05 0.  ]\n",
      "2.8637824638055176 [2.025 2.025 0.   ]\n",
      "Target 1NN, Atom is 3\n",
      "Target 2NN, Atom is 8\n",
      "Target 3NN, Atom is 1\n"
     ]
    }
   ],
   "source": [
    "# for tetrahedron(n = 4 and n p = 6)\n",
    "distances=[]\n",
    "\n",
    "a0=4.05\n",
    "vec_1=np.array([0,a0/2,a0/2])\n",
    "vec_2=np.array([0,a0,0])\n",
    "vec_3=np.array([a0/2,a0/2,0])\n",
    "vecs = [vec_1,vec_2,vec_3]\n",
    "\n",
    "for vec in vecs:\n",
    "    distances.append(np.linalg.norm(vec))\n",
    "    print(np.linalg.norm(vec),vec)\n",
    "cell2=cell.copy()\n",
    "# cell2 : Atoms object\n",
    "\n",
    "atom_list=[]\n",
    "\n",
    "for j,target in enumerate(vecs):\n",
    "    for i,atm in enumerate(cell2):\n",
    "        # atom : Atom object\n",
    "        if closed(atm.position,target):\n",
    "            print(\"Target {}NN, Atom is {}\".format(j+1,i))\n",
    "            atom_list.append(i)\n",
    "\n",
    "from ase.io import write\n",
    "cell_base=cell.copy() \n",
    "atm4=cell_base.pop(atom_list[1])\n",
    "atm3=cell_base.pop(atom_list[0]) \n",
    "atm2=cell_base.pop(atom_list[2])\n",
    "atm1=cell_base.pop(0)\n",
    "write(\"./cluster_struc/tetra_Al.cfg\",cell_base)\n"
   ]
  },
  {
   "cell_type": "code",
   "execution_count": 81,
   "id": "37d3a992",
   "metadata": {},
   "outputs": [
    {
     "name": "stdout",
     "output_type": "stream",
     "text": [
      "4.05 [4.05 0.   0.  ]\n",
      "4.05 [0.   0.   4.05]\n",
      "5.727564927611035 [4.05 0.   4.05]\n",
      "4.960216729135936 [2.025 2.025 4.05 ]\n",
      "Target 1NN, Atom is 16\n",
      "Target 2NN, Atom is 4\n",
      "Target 3NN, Atom is 20\n",
      "Target 4NN, Atom is 5\n"
     ]
    }
   ],
   "source": [
    "# for pyramid(n = 5 and n p = 8)\n",
    "distances=[]\n",
    "\n",
    "a0=4.05\n",
    "vec_1=np.array([a0,0,0])\n",
    "vec_2=np.array([0,0,a0])\n",
    "vec_3=np.array([a0,0,a0])\n",
    "vec_4=np.array([a0/2,a0/2,a0])\n",
    "vecs = [vec_1,vec_2,vec_3,vec_4]\n",
    "\n",
    "for vec in vecs:\n",
    "    distances.append(np.linalg.norm(vec))\n",
    "    print(np.linalg.norm(vec),vec)\n",
    "cell2=cell.copy()\n",
    "# cell2 : Atoms object\n",
    "\n",
    "atom_list=[]\n",
    "\n",
    "for j,target in enumerate(vecs):\n",
    "    for i,atm in enumerate(cell2):\n",
    "        # atom : Atom object\n",
    "        if closed(atm.position,target):\n",
    "            print(\"Target {}NN, Atom is {}\".format(j+1,i))\n",
    "            atom_list.append(i)\n",
    "\n",
    "from ase.io import write\n",
    "cell_base=cell.copy()\n",
    "atm4=cell_base.pop(atom_list[2])\n",
    "atm3=cell_base.pop(atom_list[0])\n",
    "atm2=cell_base.pop(atom_list[3])\n",
    "atm2=cell_base.pop(atom_list[1])\n",
    "atm1=cell_base.pop(0)\n",
    "write(\"./cluster_struc/pyramind_Al.cfg\",cell_base)\n"
   ]
  },
  {
   "cell_type": "code",
   "execution_count": 87,
   "id": "20e04189",
   "metadata": {},
   "outputs": [
    {
     "name": "stdout",
     "output_type": "stream",
     "text": [
      "2.8637824638055176 [2.025 2.025 0.   ]\n",
      "2.8637824638055176 [2.025 0.    2.025]\n",
      "2.8637824638055176 [0.    2.025 2.025]\n",
      "4.960216729135936 [2.025 2.025 4.05 ]\n",
      "4.960216729135936 [2.025 4.05  2.025]\n",
      "4.960216729135936 [4.05  2.025 2.025]\n",
      "Target 1NN, Atom is 1\n",
      "Target 2NN, Atom is 2\n",
      "Target 3NN, Atom is 3\n",
      "Target 4NN, Atom is 5\n",
      "Target 5NN, Atom is 26\n",
      "Target 6NN, Atom is 147\n"
     ]
    }
   ],
   "source": [
    "# for octahedron(n = 6 and n p = 12)\n",
    "distances=[]\n",
    "\n",
    "a0=4.05\n",
    "vec_3=np.array([0,a0/2,a0/2])\n",
    "vec_2=np.array([a0/2,0,a0/2])\n",
    "vec_1=np.array([a0/2,a0/2,0])\n",
    "vec_4=np.array([a0/2,a0/2,a0])\n",
    "vec_5=np.array([a0/2,a0,a0/2])\n",
    "vec_6=np.array([a0,a0/2,a0/2])\n",
    "vecs = [vec_1,vec_2,vec_3,vec_4,vec_5,vec_6]\n",
    "\n",
    "for vec in vecs:\n",
    "    distances.append(np.linalg.norm(vec))\n",
    "    print(np.linalg.norm(vec),vec)\n",
    "cell2=cell.copy()\n",
    "# cell2 : Atoms object\n",
    "\n",
    "atom_list=[]\n",
    "\n",
    "for j,target in enumerate(vecs):\n",
    "    for i,atm in enumerate(cell2):\n",
    "        # atom : Atom object\n",
    "        if closed(atm.position,target):\n",
    "            print(\"Target {}NN, Atom is {}\".format(j+1,i))\n",
    "            atom_list.append(i)"
   ]
  },
  {
   "cell_type": "code",
   "execution_count": 89,
   "id": "4295be42",
   "metadata": {},
   "outputs": [],
   "source": [
    "from ase.io import write\n",
    "cell_base=cell.copy()\n",
    "atm6=cell_base.pop(atom_list[5])\n",
    "atm5=cell_base.pop(atom_list[4])\n",
    "atm4=cell_base.pop(atom_list[3])\n",
    "atm3=cell_base.pop(atom_list[2])\n",
    "atm2=cell_base.pop(atom_list[1])\n",
    "atm2=cell_base.pop(atom_list[0])\n",
    "#atm1=cell_base.pop(0)\n",
    "write(\"./cluster_struc/octahedron_Al.cfg\",cell_base)\n"
   ]
  },
  {
   "cell_type": "markdown",
   "id": "249022f9",
   "metadata": {},
   "source": [
    "Al_cell=\"./cluster_struc/Al.cfg\"\n",
    "\n",
    "comp_cell=cfg.read_cfg(Al_cell)\n",
    "e = "
   ]
  },
  {
   "cell_type": "code",
   "execution_count": 1,
   "id": "5215bf12",
   "metadata": {},
   "outputs": [],
   "source": [
    "def graph_init():\n",
    "    #plt.rcParams['text.usetex'] = True\n",
    "    plt.figure(figsize=(8,6))\n",
    "    plt.style.use('seaborn-paper')\n",
    "    params = {'font.size':16 , 'legend.fontsize': 14,'xtick.labelsize' : 14,'ytick.labelsize' : 14,'axes.labelsize' : 16}\n",
    "    plt.rcParams.update(params)"
   ]
  },
  {
   "cell_type": "code",
   "execution_count": 2,
   "id": "3e831ac6",
   "metadata": {},
   "outputs": [],
   "source": [
    "#from ase.neb import NEB, NEBTools\n",
    "from ase.neb import SingleCalculatorNEB, NEBTools\n",
    "# Load AMS Tools (REQUIRED)\n",
    "from amstools import *\n",
    "# Load pyace (REQUIRED)\n",
    "from pyace import *"
   ]
  },
  {
   "cell_type": "code",
   "execution_count": 3,
   "id": "e8cae026",
   "metadata": {},
   "outputs": [],
   "source": [
    "def mycalc(key):\n",
    "    if key == 'eam':\n",
    "        # EAM calculator\n",
    "\n",
    "        #pot_folder = '/home/users/kraycazx/workdir/gitworkdir/2_bcc_multipot/0_Potentials/Al'\n",
    "        os.environ['ASE_LAMMPSRUN_COMMAND']='/home/eliza/Downloads/lammps-16Mar18/src/lmp_mpi'\n",
    "        #potential_file='{}/Eam_Al_99.eam'.format(pot_folder) they can add without % or +\n",
    "        potential_file=\"Al99.eam.alloy\"\n",
    "        calculator_lmp_params = {'mass': ['1 {}'.format(elm.mass)],\n",
    "            'pair_style': 'eam/fs',\n",
    "            'pair_coeff': ['* * {} {}'.format(potential_file,elm.symbol)],\n",
    "            'keep_tmp_files' : True,\n",
    "            'tmp_dir' : \"/tmp/test_eam\"}\n",
    "        from ase.calculators.lammpsrun import LAMMPS\n",
    "        calc = LAMMPS(**calculator_lmp_params)\n",
    "        return calc\n",
    "    if key == 'ace':\n",
    "        \n",
    "        potential_file=\"Al.pbe.in.yaml\"\n",
    "        calc = PyACECalculator(potential_file)\n",
    "        return calc"
   ]
  },
  {
   "cell_type": "code",
   "execution_count": null,
   "id": "363e7974",
   "metadata": {},
   "outputs": [],
   "source": []
  }
 ],
 "metadata": {
  "kernelspec": {
   "display_name": "Python 3",
   "language": "python",
   "name": "python3"
  },
  "language_info": {
   "codemirror_mode": {
    "name": "ipython",
    "version": 3
   },
   "file_extension": ".py",
   "mimetype": "text/x-python",
   "name": "python",
   "nbconvert_exporter": "python",
   "pygments_lexer": "ipython3",
   "version": "3.8.8"
  }
 },
 "nbformat": 4,
 "nbformat_minor": 5
}
