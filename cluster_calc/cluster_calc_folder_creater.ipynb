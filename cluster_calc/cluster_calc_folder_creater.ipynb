{
 "cells": [
  {
   "cell_type": "code",
   "execution_count": 1,
   "id": "df593c4b",
   "metadata": {},
   "outputs": [],
   "source": [
    "import ase\n",
    "from mendeleev import Al as elm  # The species\n",
    "import os\n",
    "#from amstools import *\n",
    "from ase.lattice.cubic import FaceCenteredCubic\n",
    "import matplotlib.pyplot as plt\n",
    "import numpy as np\n",
    "from ase.lattice.hexagonal import HexagonalClosedPacked\n",
    "from ase.spacegroup import crystal\n",
    "import matplotlib.pyplot as plt\n",
    "from ase.build import bulk\n",
    "import numpy as np\n",
    "import os\n",
    "import shutil, os\n",
    "from ase.io import write"
   ]
  },
  {
   "cell_type": "code",
   "execution_count": 3,
   "id": "9166f2c1",
   "metadata": {},
   "outputs": [],
   "source": [
    "#from ase.neb import NEB, NEBTools\n",
    "from ase.neb import SingleCalculatorNEB, NEBTools\n",
    "# Load AMS Tools (REQUIRED)\n",
    "from amstools import *\n",
    "# Load pyace (REQUIRED)\n",
    "from pyace import *\n",
    "from ase.io import cfg"
   ]
  },
  {
   "cell_type": "code",
   "execution_count": 9,
   "id": "6174938d",
   "metadata": {},
   "outputs": [],
   "source": [
    "fcc = FaceCenteredCubic(directions=[[1,0,0], [0,1,0], [0,0,1]],\n",
    "                          size=(1,1,1), symbol=elm.symbol, pbc=(1,1,1),\n",
    "                          latticeconstant=4.05)"
   ]
  },
  {
   "cell_type": "code",
   "execution_count": 10,
   "id": "59a28905",
   "metadata": {},
   "outputs": [],
   "source": [
    "cell=fcc*[4,4,4]"
   ]
  },
  {
   "cell_type": "code",
   "execution_count": 4,
   "id": "842617c3",
   "metadata": {},
   "outputs": [],
   "source": [
    "!mkdir ./1vac\n",
    "!mkdir ./cell"
   ]
  },
  {
   "cell_type": "code",
   "execution_count": 6,
   "id": "38248a61",
   "metadata": {},
   "outputs": [],
   "source": [
    "Al_cell=\"./cluster_struc_S4_big/Al_eam.cfg\"\n",
    "comp_cell=cfg.read_cfg(Al_cell)"
   ]
  },
  {
   "cell_type": "code",
   "execution_count": 7,
   "id": "3cdbd019",
   "metadata": {},
   "outputs": [],
   "source": [
    "folders1=['./1vac','./cell']"
   ]
  },
  {
   "cell_type": "code",
   "execution_count": 8,
   "id": "9b88867c",
   "metadata": {},
   "outputs": [],
   "source": [
    "for i in folders1:\n",
    "    \n",
    "    shutil.copy(\"POTCAR\", i)\n",
    "    shutil.copy(\"INCAR\", i)\n",
    "    shutil.copy(\"KPOINTS\",i)  "
   ]
  },
  {
   "cell_type": "code",
   "execution_count": 11,
   "id": "8d5b8d19",
   "metadata": {},
   "outputs": [],
   "source": [
    "cell1=cell.copy()\n",
    "cell1.pop(0)\n",
    "write('./1vac/POSCAR',cell1)\n",
    "write('./cell/POSCAR',cell)"
   ]
  },
  {
   "cell_type": "code",
   "execution_count": 16,
   "id": "0a08b265",
   "metadata": {},
   "outputs": [],
   "source": [
    "!mkdir ./divac\n",
    "!mkdir ./tri\n",
    "!mkdir ./sqr\n",
    "!mkdir ./bent_rhombus\n",
    "!mkdir ./tetrahedron\n",
    "!mkdir ./pyramind\n",
    "!mkdir ./octahedron\n",
    "!mkdir ./13NN"
   ]
  },
  {
   "cell_type": "code",
   "execution_count": 17,
   "id": "58dde65c",
   "metadata": {},
   "outputs": [],
   "source": [
    "folders=['./divac','./tri','./sqr','./bent_rhombus','./tetrahedron','./pyramind','./octahedron','./13NN']"
   ]
  },
  {
   "cell_type": "code",
   "execution_count": 18,
   "id": "f8f324a4",
   "metadata": {},
   "outputs": [],
   "source": [
    "folder = ['./cluster_struc_S4_big/divac_Al_eam.cfg', './cluster_struc_S4_big/tri_Al_eam.cfg',\n",
    "              './cluster_struc_S4_big/sqr_Al_eam.cfg',\n",
    "          './cluster_struc_S4_big/b_rhom_Al_eam.cfg','./cluster_struc_S4_big/tetra_Al_eam.cfg',\n",
    "              './cluster_struc_S4_big/pyramind_Al_eam.cfg',\n",
    "          './cluster_struc_S4_big/octahedron_Al_eam.cfg','./cluster_struc_S4_big/13_eam.cfg']"
   ]
  },
  {
   "cell_type": "code",
   "execution_count": 19,
   "id": "64aef54b",
   "metadata": {},
   "outputs": [],
   "source": [
    "for i,j in zip(folders,folder):\n",
    "    Al_cell= j\n",
    "    cell_base=cfg.read_cfg(Al_cell)\n",
    "    write('{}/POSCAR'.format(i),cell_base)\n",
    "    shutil.copy(\"POTCAR\", i)\n",
    "    shutil.copy(\"INCAR\", i)\n",
    "    shutil.copy(\"KPOINTS\",i) "
   ]
  },
  {
   "cell_type": "code",
   "execution_count": null,
   "id": "58ec735f",
   "metadata": {},
   "outputs": [],
   "source": []
  }
 ],
 "metadata": {
  "kernelspec": {
   "display_name": "Python 3",
   "language": "python",
   "name": "python3"
  },
  "language_info": {
   "codemirror_mode": {
    "name": "ipython",
    "version": 3
   },
   "file_extension": ".py",
   "mimetype": "text/x-python",
   "name": "python",
   "nbconvert_exporter": "python",
   "pygments_lexer": "ipython3",
   "version": "3.8.8"
  }
 },
 "nbformat": 4,
 "nbformat_minor": 5
}
